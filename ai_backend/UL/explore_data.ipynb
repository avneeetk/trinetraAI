{
 "cells": [
  {
   "cell_type": "code",
   "execution_count": null,
   "id": "b7cb0047",
   "metadata": {},
   "outputs": [],
   "source": [
    "import pandas\n",
    "\n",
    "df = pandas.read_csv(\"./opensearch_results_merged.csv\", low_memory=False)\n",
    "print(df.shape)\n",
    "print(df.columns)\n",
    "print(df.head())\n",
    "print(df.info())\n",
    "df.describe()\n",
    "df.nunique()\n",
    "print(df.duplicated())\n",
    "df=df.drop_duplicates()\n",
    "df=df.dropna(thresh=5)\n",
    "\n"
   ]
  },
  {
   "cell_type": "code",
   "execution_count": null,
   "id": "917e654d",
   "metadata": {},
   "outputs": [],
   "source": [
    "print(\"[*] Shape after cleaning:\", df.shape)\n",
    "\n",
    "print(\"Dropped rows (%):\", (1 - len(df)/306813) * 100)\n"
   ]
  },
  {
   "cell_type": "code",
   "execution_count": null,
   "id": "93423aa9",
   "metadata": {},
   "outputs": [],
   "source": [
    "missing_ratio = df.isna().mean().sort_values(ascending=False)\n",
    "print(missing_ratio.head(376)) "
   ]
  },
  {
   "cell_type": "code",
   "execution_count": null,
   "id": "82d17435",
   "metadata": {},
   "outputs": [],
   "source": [
    "unique_counts = df.nunique().sort_values()\n",
    "print(unique_counts.head(100))   \n",
    "print(unique_counts.tail(100))   "
   ]
  },
  {
   "cell_type": "code",
   "execution_count": null,
   "id": "4f42ddb6",
   "metadata": {},
   "outputs": [],
   "source": [
    "drop_missing = missing_ratio[missing_ratio > 0.95].index.tolist()\n",
    "df_reduced = df.drop(columns=drop_missing)\n",
    "\n",
    "constant_cols = [col for col in df.columns if df[col].nunique() <= 1]\n",
    "df = df.drop(columns=constant_cols)\n",
    "print(f\"Dropped {len(constant_cols)} constant columns\")\n",
    "\n",
    "unique_counts = df_reduced.nunique()\n",
    "drop_unique = unique_counts[unique_counts <=1 ].index.tolist()\n",
    "df_reduced = df_reduced.drop(columns=drop_unique)\n",
    "\n",
    "print(\"[*] Reduced dataset shape:\",df_reduced.shape)\n"
   ]
  },
  {
   "cell_type": "code",
   "execution_count": null,
   "id": "2e464db0",
   "metadata": {},
   "outputs": [],
   "source": [
    "empty_rows = df_reduced[df_reduced.isna().any(axis=1)]\n",
    "print(len(empty_rows))\n",
    "df_reduced = df_reduced.dropna(how='all')\n",
    "\n",
    "dup_count = df_reduced.duplicated().sum()\n",
    "print(dup_count)\n",
    "\n",
    "df_reduced = df_reduced.drop_duplicates()\n",
    "\n",
    "threshold=0.9 #if 90% columns of the rows are NaN\n",
    "row_missing_ratio = df_reduced.isna().mean(axis=1)\n",
    "df_reduced = df_reduced[row_missing_ratio < threshold]\n"
   ]
  },
  {
   "cell_type": "code",
   "execution_count": null,
   "id": "0869bc47",
   "metadata": {},
   "outputs": [],
   "source": [
    "non_missing_ratio = 1 - df_reduced.isna().mean()\n",
    "print(non_missing_ratio.sort_values(ascending=False).head(20))\n",
    "\n",
    "non_null_counts = df.notna().sum(axis=1)\n",
    "threshold = 20   # number of non-null values to consider a row 'dense'\n",
    "\n",
    "dense_rows = df[non_null_counts >= threshold]\n",
    "sparse_rows = df[non_null_counts < threshold]\n",
    "\n",
    "print(f\"[*] Dense rows (>= {threshold} non-null values): {len(dense_rows)}\")\n",
    "print(f\"[*] Sparse rows (< {threshold} non-null values): {len(sparse_rows)}\")\n"
   ]
  },
  {
   "cell_type": "code",
   "execution_count": null,
   "id": "e607c5c5",
   "metadata": {},
   "outputs": [],
   "source": [
    "import matplotlib.pyplot as plt\n",
    "\n",
    "raw_non_missing = df_reduced.notna().sum(axis=1)\n",
    "plt.hist(raw_non_missing, bins=50, edgecolor=\"k\")\n",
    "plt.title(\"Non-missing values per row\")\n",
    "plt.xlabel(\"count of present columns\")\n",
    "plt.ylabel(\"row frequency\")\n",
    "plt.show()"
   ]
  },
  {
   "cell_type": "code",
   "execution_count": null,
   "id": "01c6daca",
   "metadata": {},
   "outputs": [],
   "source": [
    "df.to_csv(\"opensearch_reduced.csv\", index=False)\n",
    "dense_rows.to_csv(\"opensearch_dense.csv\", index=False)\n",
    "sparse_rows.to_csv(\"opensearch_sparse.csv\", index=False)\n",
    "\n",
    "print(\"[+] Cleaned dataset saved:\")\n",
    "print(\"    - opensearch_reduced.csv (all cleaned data)\")\n",
    "print(\"    - opensearch_dense.csv   (rows with enough information)\")\n",
    "print(\"    - opensearch_sparse.csv  (rows with little information)\")\n",
    "\n",
    "df.head()"
   ]
  }
 ],
 "metadata": {
  "kernelspec": {
   "display_name": ".venv",
   "language": "python",
   "name": "python3"
  },
  "language_info": {
   "codemirror_mode": {
    "name": "ipython",
    "version": 3
   },
   "file_extension": ".py",
   "mimetype": "text/x-python",
   "name": "python",
   "nbconvert_exporter": "python",
   "pygments_lexer": "ipython3",
   "version": "3.13.3"
  }
 },
 "nbformat": 4,
 "nbformat_minor": 5
}
